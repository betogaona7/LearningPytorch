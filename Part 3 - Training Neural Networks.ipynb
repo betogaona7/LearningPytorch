{
 "cells": [
  {
   "cell_type": "markdown",
   "metadata": {},
   "source": [
    "# Training Neural Networks\n",
    "\n",
    "The network we built in the previous part isn't so smart, it doesn't know anything about our handwritten digits. Neural networks with non-linear activations work like universal function approximators. There is some function that maps your input to the output. For example, images of handwritten digits to class probabilities. The power of neural networks is that we can train them to approximate this function, and basically any function given enough data and compute time.\n",
    "\n",
    "<img src=\"assets/function_approx.png\" width=500px>\n",
    "\n",
    "At first the network is naive, it doesn't know the function mapping the inputs to the outputs. We train the network by showing it examples of real data, then adjusting the network parameters such that it approximates this function.\n",
    "\n",
    "To find these parameters, we need to know how poorly the network is predicting the real outputs. For this we calculate a **loss function** (also called the cost), a measure of our prediction error. For example, the mean squared loss is often used in regression and binary classification problems\n",
    "\n",
    "$$\n",
    "\\ell = \\frac{1}{2n}\\sum_i^n{\\left(y_i - \\hat{y}_i\\right)^2}\n",
    "$$\n",
    "\n",
    "where $n$ is the number of training examples, $y_i$ are the true labels, and $\\hat{y}_i$ are the predicted labels.\n",
    "\n",
    "By minimizing this loss with respect to the network parameters, we can find configurations where the loss is at a minimum and the network is able to predict the correct labels with high accuracy. We find this minimum using a process called **gradient descent**. The gradient is the slope of the loss function and points in the direction of fastest change. To get to the minimum in the least amount of time, we then want to follow the gradient (downwards). You can think of this like descending a mountain by following the steepest slope to the base.\n",
    "\n",
    "<img src='assets/gradient_descent.png' width=350px>"
   ]
  },
  {
   "cell_type": "markdown",
   "metadata": {},
   "source": [
    "## Backpropagation\n",
    "\n",
    "For single layer networks, gradient descent is simple to implement. However, it's more complicated for deeper, multilayer neural networks like the one we've built. Complicated enough that it took about 30 years before researchers figured out how to train multilayer networks, although it's straightforward once you learn about it. \n",
    "\n",
    "This is done through **backpropagation** which is really just an application of the chain rule from calculus. It's easiest to understand if we convert a two layer network into a graph representation.\n",
    "\n",
    "<img src='assets/w1_backprop_graph.png' width=400px>\n",
    "\n",
    "In the forward pass through the network, our data and operations go from right to left here. To train the weights with gradient descent, we propagate the gradient of the cost backwards through the network. Mathematically, this is really just calculating the gradient of the loss with respect to the weights using the chain rule.\n",
    "\n",
    "$$\n",
    "\\frac{\\partial \\ell}{\\partial w_1} = \\frac{\\partial l_1}{\\partial w_1} \\frac{\\partial s}{\\partial l_1} \\frac{\\partial l_2}{\\partial s} \\frac{\\partial \\ell}{\\partial l_2}\n",
    "$$\n",
    "\n",
    "We update our weights using this gradient with some learning rate $\\alpha$. \n",
    "\n",
    "$$\n",
    "w^\\prime = w - \\alpha \\frac{\\partial \\ell}{\\partial w}\n",
    "$$\n",
    "\n",
    "The learning rate is set such that the weight update steps are small enough that the iterative method settles in a minimum.\n",
    "\n",
    "The first thing we need to do for training is define our loss function. In PyTorch, you'll usually see this as `criterion`. Here we're using softmax output, so we want to use `criterion = nn.CrossEntropyLoss()` as our loss. Later when training, you use `loss = criterion(output, targets)` to calculate the actual loss.\n",
    "\n",
    "We also need to define the optimizer we're using, SGD or Adam, or something along those lines. Here I'll just use SGD with `torch.optim.SGD`, passing in the network parameters and the learning rate."
   ]
  },
  {
   "cell_type": "markdown",
   "metadata": {},
   "source": [
    "## Autograd\n",
    "\n",
    "Torch provides a module, `autograd`, for automatically calculating the gradient of tensors. It does this by keeping track of operations performed on tensors. To make sure PyTorch keeps track of operations on a tensor and calculates the gradients, you need to set `requires_grad` on a tensor. You can do this at creation with the `requires_grad` keyword, or at any time with `x.requires_grad_(True)`.\n",
    "\n",
    "You can turn off gradients for a block of code with the `torch.no_grad()` content:\n",
    "```python\n",
    "x = torch.zeros(1, requires_grad=True)\n",
    ">>> with torch.no_grad():\n",
    "...     y = x * 2\n",
    ">>> y.requires_grad\n",
    "False\n",
    "```\n",
    "\n",
    "Also, you can turn on or off gradients altogether with `torch.set_grad_enabled(True|False)`.\n",
    "\n",
    "The gradients are computed with respect to some variable `z` with `z.backward()`. This does a backward pass through the operations that created `z`."
   ]
  },
  {
   "cell_type": "code",
   "execution_count": 1,
   "metadata": {},
   "outputs": [],
   "source": [
    "%matplotlib inline\n",
    "\n",
    "from collections import OrderedDict\n",
    "\n",
    "import numpy as np\n",
    "import time\n",
    "\n",
    "import torch\n",
    "from torch import nn\n",
    "from torch import optim\n",
    "import torch.nn.functional as F\n",
    "\n",
    "import helper"
   ]
  },
  {
   "cell_type": "code",
   "execution_count": 2,
   "metadata": {},
   "outputs": [
    {
     "name": "stdout",
     "output_type": "stream",
     "text": [
      "tensor([[-1.1835, -0.1485],\n",
      "        [-0.1790, -1.0323]])\n"
     ]
    }
   ],
   "source": [
    "x = torch.randn(2,2, requires_grad=True)\n",
    "print(x)"
   ]
  },
  {
   "cell_type": "code",
   "execution_count": 3,
   "metadata": {},
   "outputs": [
    {
     "name": "stdout",
     "output_type": "stream",
     "text": [
      "tensor([[ 1.4006,  0.0221],\n",
      "        [ 0.0320,  1.0657]])\n"
     ]
    }
   ],
   "source": [
    "y = x**2\n",
    "print(y)"
   ]
  },
  {
   "cell_type": "markdown",
   "metadata": {},
   "source": [
    "Below we can see the operation that created `y`, a power operation `PowBackward0`."
   ]
  },
  {
   "cell_type": "code",
   "execution_count": 4,
   "metadata": {},
   "outputs": [
    {
     "name": "stdout",
     "output_type": "stream",
     "text": [
      "<PowBackward0 object at 0x7f5d0d47b940>\n"
     ]
    }
   ],
   "source": [
    "## grad_fn shows the function that generated this variable\n",
    "print(y.grad_fn)"
   ]
  },
  {
   "cell_type": "markdown",
   "metadata": {},
   "source": [
    "The autgrad module keeps track of these operations and knows how to calculate the gradient for each one. In this way, it's able to calculate the gradients for a chain of operations, with respect to any one tensor. Let's reduce the tensor `y` to a scalar value, the mean."
   ]
  },
  {
   "cell_type": "code",
   "execution_count": 5,
   "metadata": {},
   "outputs": [
    {
     "name": "stdout",
     "output_type": "stream",
     "text": [
      "tensor(0.6301)\n"
     ]
    }
   ],
   "source": [
    "z = y.mean()\n",
    "print(z)"
   ]
  },
  {
   "cell_type": "markdown",
   "metadata": {},
   "source": [
    "You can check the gradients for `x` and `y` but they are empty currently."
   ]
  },
  {
   "cell_type": "code",
   "execution_count": 6,
   "metadata": {},
   "outputs": [
    {
     "name": "stdout",
     "output_type": "stream",
     "text": [
      "None\n"
     ]
    }
   ],
   "source": [
    "print(x.grad)"
   ]
  },
  {
   "cell_type": "markdown",
   "metadata": {},
   "source": [
    "To calculate the gradients, you need to run the `.backward` method on a Variable, `z` for example. This will calculate the gradient for `z` with respect to `x`\n",
    "\n",
    "$$\n",
    "\\frac{\\partial z}{\\partial x} = \\frac{\\partial}{\\partial x}\\left[\\frac{1}{n}\\sum_i^n x_i^2\\right] = \\frac{x}{2}\n",
    "$$"
   ]
  },
  {
   "cell_type": "code",
   "execution_count": 7,
   "metadata": {},
   "outputs": [
    {
     "name": "stdout",
     "output_type": "stream",
     "text": [
      "tensor([[-0.5917, -0.0743],\n",
      "        [-0.0895, -0.5162]])\n",
      "tensor([[-0.5917, -0.0743],\n",
      "        [-0.0895, -0.5162]])\n"
     ]
    }
   ],
   "source": [
    "z.backward()\n",
    "print(x.grad)\n",
    "print(x/2)"
   ]
  },
  {
   "cell_type": "markdown",
   "metadata": {},
   "source": [
    "These gradients calculations are particularly useful for neural networks. For training we need the gradients of the weights with respect to the cost. With PyTorch, we run data forward through the network to calculate the cost, then, go backwards to calculate the gradients with respect to the cost. Once we have the gradients we can make a gradient descent step. "
   ]
  },
  {
   "cell_type": "markdown",
   "metadata": {},
   "source": [
    "## Get the data and define the network\n",
    "\n",
    "The same as we saw in part 3, we'll load the MNIST dataset and define our network."
   ]
  },
  {
   "cell_type": "code",
   "execution_count": 8,
   "metadata": {},
   "outputs": [
    {
     "name": "stdout",
     "output_type": "stream",
     "text": [
      "Downloading http://yann.lecun.com/exdb/mnist/train-images-idx3-ubyte.gz\n",
      "Downloading http://yann.lecun.com/exdb/mnist/train-labels-idx1-ubyte.gz\n",
      "Downloading http://yann.lecun.com/exdb/mnist/t10k-images-idx3-ubyte.gz\n",
      "Downloading http://yann.lecun.com/exdb/mnist/t10k-labels-idx1-ubyte.gz\n",
      "Processing...\n",
      "Done!\n"
     ]
    }
   ],
   "source": [
    "from torchvision import datasets, transforms\n",
    "\n",
    "# Define a transform to normalize the data\n",
    "transform = transforms.Compose([transforms.ToTensor(),\n",
    "                              transforms.Normalize((0.5, 0.5, 0.5), (0.5, 0.5, 0.5)),\n",
    "                             ])\n",
    "# Download and load the training data\n",
    "trainset = datasets.MNIST('MNIST_data/', download=True, train=True, transform=transform)\n",
    "trainloader = torch.utils.data.DataLoader(trainset, batch_size=64, shuffle=True)"
   ]
  },
  {
   "cell_type": "markdown",
   "metadata": {},
   "source": [
    "I'll build a network with `nn.Sequential` here. Only difference from the last part is I'm not actually using softmax on the output, but instead just using the raw output from the last layer. This is because the output from softmax is a probability distribution. Often, the output will have values really close to zero or really close to one. Due to [inaccuracies with representing numbers as floating points](https://docs.python.org/3/tutorial/floatingpoint.html), computations with a softmax output can lose accuracy and become unstable. To get around this, we'll use the raw output, called the **logits**, to calculate the loss."
   ]
  },
  {
   "cell_type": "code",
   "execution_count": 9,
   "metadata": {},
   "outputs": [],
   "source": [
    "# Hyperparameters for our network\n",
    "input_size = 784\n",
    "hidden_sizes = [128, 64]\n",
    "output_size = 10\n",
    "\n",
    "# Build a feed-forward network\n",
    "model = nn.Sequential(OrderedDict([\n",
    "                      ('fc1', nn.Linear(input_size, hidden_sizes[0])),\n",
    "                      ('relu1', nn.ReLU()),\n",
    "                      ('fc2', nn.Linear(hidden_sizes[0], hidden_sizes[1])),\n",
    "                      ('relu2', nn.ReLU()),\n",
    "                      ('logits', nn.Linear(hidden_sizes[1], output_size))]))"
   ]
  },
  {
   "cell_type": "markdown",
   "metadata": {},
   "source": [
    "## Training the network!\n",
    "\n",
    "The first thing we need to do for training is define our loss function. In PyTorch, you'll usually see this as `criterion`. Here we're using softmax output, so we want to use `criterion = nn.CrossEntropyLoss()` as our loss. Later when training, you use `loss = criterion(output, targets)` to calculate the actual loss.\n",
    "\n",
    "We also need to define the optimizer we're using, SGD or Adam, or something along those lines. Here I'll just use SGD with `torch.optim.SGD`, passing in the network parameters and the learning rate."
   ]
  },
  {
   "cell_type": "code",
   "execution_count": 10,
   "metadata": {},
   "outputs": [],
   "source": [
    "criterion = nn.CrossEntropyLoss()\n",
    "optimizer = optim.SGD(model.parameters(), lr=0.01)"
   ]
  },
  {
   "cell_type": "markdown",
   "metadata": {},
   "source": [
    "First, let's consider just one learning step before looping through all the data. The general process with PyTorch:\n",
    "\n",
    "* Make a forward pass through the network to get the logits \n",
    "* Use the logits to calculate the loss\n",
    "* Perform a backward pass through the network with `loss.backward()` to calculate the gradients\n",
    "* Take a step with the optimizer to update the weights\n",
    "\n",
    "Below I'll go through one training step and print out the weights and gradients so you can see how it changes."
   ]
  },
  {
   "cell_type": "code",
   "execution_count": 14,
   "metadata": {},
   "outputs": [
    {
     "name": "stdout",
     "output_type": "stream",
     "text": [
      "Before Parameter containing:\n",
      "tensor([[ 2.9909e-03,  2.7606e-02, -3.4591e-02,  ..., -3.1580e-04,\n",
      "          2.4831e-02, -1.3220e-03],\n",
      "        [-1.9076e-02,  5.2967e-04, -5.6095e-03,  ..., -6.0482e-03,\n",
      "         -9.3401e-03,  2.7074e-02],\n",
      "        [-3.3958e-03,  1.8196e-02, -2.9022e-02,  ..., -1.1023e-03,\n",
      "         -1.3483e-02,  2.7948e-02],\n",
      "        ...,\n",
      "        [ 2.5629e-02, -3.3862e-02,  2.1913e-02,  ...,  2.4562e-02,\n",
      "         -1.1491e-02, -3.4010e-02],\n",
      "        [-5.7366e-03, -8.7821e-03, -1.3673e-03,  ...,  2.9126e-03,\n",
      "          1.8514e-02,  2.4712e-02],\n",
      "        [-4.8992e-03, -2.5645e-02,  9.9893e-03,  ..., -2.5951e-02,\n",
      "         -1.5481e-02,  2.2257e-02]])\n",
      "Gradeint - tensor(1.00000e-02 *\n",
      "       [[ 0.4535,  0.4535,  0.4535,  ...,  0.4535,  0.4535,  0.4535],\n",
      "        [-0.0380, -0.0380, -0.0380,  ..., -0.0380, -0.0380, -0.0380],\n",
      "        [-0.2367, -0.2367, -0.2367,  ..., -0.2367, -0.2367, -0.2367],\n",
      "        ...,\n",
      "        [ 0.1675,  0.1675,  0.1675,  ...,  0.1675,  0.1675,  0.1675],\n",
      "        [ 0.3588,  0.3588,  0.3588,  ...,  0.3588,  0.3588,  0.3588],\n",
      "        [-0.1271, -0.1271, -0.1271,  ..., -0.1271, -0.1271, -0.1271]])\n"
     ]
    }
   ],
   "source": [
    "print('Before', model.fc1.weight)\n",
    "\n",
    "images, labels = next(iter(trainloader))\n",
    "images.resize_(64, 784)\n",
    "\n",
    "optimizer.zero_grad() # To not accummulate gradients \n",
    "\n",
    "# Forward pass \n",
    "output = model.forward(images)\n",
    "loss = criterion(output, labels)\n",
    "loss.backward()\n",
    "print('Gradeint -', model.fc1.weight.grad)\n",
    "optimizer.step()"
   ]
  },
  {
   "cell_type": "code",
   "execution_count": 15,
   "metadata": {},
   "outputs": [
    {
     "name": "stdout",
     "output_type": "stream",
     "text": [
      "Updated weights -  Parameter containing:\n",
      "tensor([[ 2.9455e-03,  2.7561e-02, -3.4636e-02,  ..., -3.6115e-04,\n",
      "          2.4786e-02, -1.3674e-03],\n",
      "        [-1.9072e-02,  5.3347e-04, -5.6057e-03,  ..., -6.0444e-03,\n",
      "         -9.3363e-03,  2.7078e-02],\n",
      "        [-3.3722e-03,  1.8220e-02, -2.8999e-02,  ..., -1.0786e-03,\n",
      "         -1.3459e-02,  2.7971e-02],\n",
      "        ...,\n",
      "        [ 2.5613e-02, -3.3879e-02,  2.1896e-02,  ...,  2.4546e-02,\n",
      "         -1.1508e-02, -3.4026e-02],\n",
      "        [-5.7725e-03, -8.8180e-03, -1.4032e-03,  ...,  2.8767e-03,\n",
      "          1.8478e-02,  2.4676e-02],\n",
      "        [-4.8865e-03, -2.5632e-02,  1.0002e-02,  ..., -2.5939e-02,\n",
      "         -1.5469e-02,  2.2270e-02]])\n"
     ]
    }
   ],
   "source": [
    "print('Updated weights - ', model.fc1.weight)"
   ]
  },
  {
   "cell_type": "markdown",
   "metadata": {},
   "source": [
    "### Training for real\n",
    "\n",
    "Now we'll put this algorithm into a loop so we can go through all the images. This is fairly straightforward. We'll loop through the mini-batches in our dataset, pass the data through the network to calculate the losses, get the gradients, then run the optimizer."
   ]
  },
  {
   "cell_type": "code",
   "execution_count": 16,
   "metadata": {},
   "outputs": [],
   "source": [
    "optimizer = optim.SGD(model.parameters(), lr=0.003)"
   ]
  },
  {
   "cell_type": "code",
   "execution_count": 17,
   "metadata": {},
   "outputs": [
    {
     "name": "stdout",
     "output_type": "stream",
     "text": [
      "Epoch: 1/3... Loss: {:.4f} 2.299164879322052\n",
      "Epoch: 1/3... Loss: {:.4f} 2.2765147507190706\n",
      "Epoch: 1/3... Loss: {:.4f} 2.2532306790351866\n",
      "Epoch: 1/3... Loss: {:.4f} 2.2348328649997713\n",
      "Epoch: 1/3... Loss: {:.4f} 2.2097309708595274\n",
      "Epoch: 1/3... Loss: {:.4f} 2.1846849501132963\n",
      "Epoch: 1/3... Loss: {:.4f} 2.1606225252151487\n",
      "Epoch: 1/3... Loss: {:.4f} 2.1277291417121886\n",
      "Epoch: 1/3... Loss: {:.4f} 2.0996255695819857\n",
      "Epoch: 1/3... Loss: {:.4f} 2.0589321196079253\n",
      "Epoch: 1/3... Loss: {:.4f} 2.022040584683418\n",
      "Epoch: 1/3... Loss: {:.4f} 1.9739087492227554\n",
      "Epoch: 1/3... Loss: {:.4f} 1.9332794070243835\n",
      "Epoch: 1/3... Loss: {:.4f} 1.8814798504114152\n",
      "Epoch: 1/3... Loss: {:.4f} 1.8175167977809905\n",
      "Epoch: 1/3... Loss: {:.4f} 1.741793242096901\n",
      "Epoch: 1/3... Loss: {:.4f} 1.6927725285291673\n",
      "Epoch: 1/3... Loss: {:.4f} 1.6287339895963668\n",
      "Epoch: 1/3... Loss: {:.4f} 1.5449643671512603\n",
      "Epoch: 1/3... Loss: {:.4f} 1.4671188235282897\n",
      "Epoch: 1/3... Loss: {:.4f} 1.410613626241684\n",
      "Epoch: 1/3... Loss: {:.4f} 1.3656032025814056\n",
      "Epoch: 1/3... Loss: {:.4f} 1.246534252166748\n",
      "Epoch: 2/3... Loss: {:.4f} 0.6667545378208161\n",
      "Epoch: 2/3... Loss: {:.4f} 1.1558789879083633\n",
      "Epoch: 2/3... Loss: {:.4f} 1.122863531112671\n",
      "Epoch: 2/3... Loss: {:.4f} 1.0655576094985009\n",
      "Epoch: 2/3... Loss: {:.4f} 1.0199754118919373\n",
      "Epoch: 2/3... Loss: {:.4f} 0.9675760135054589\n",
      "Epoch: 2/3... Loss: {:.4f} 0.9374279722571373\n",
      "Epoch: 2/3... Loss: {:.4f} 0.9088909909129143\n",
      "Epoch: 2/3... Loss: {:.4f} 0.8651261046528816\n",
      "Epoch: 2/3... Loss: {:.4f} 0.8546939119696617\n",
      "Epoch: 2/3... Loss: {:.4f} 0.8212738916277885\n",
      "Epoch: 2/3... Loss: {:.4f} 0.7717644289135933\n",
      "Epoch: 2/3... Loss: {:.4f} 0.7645803391933441\n",
      "Epoch: 2/3... Loss: {:.4f} 0.7669936046004295\n",
      "Epoch: 2/3... Loss: {:.4f} 0.7385748505592347\n",
      "Epoch: 2/3... Loss: {:.4f} 0.7111263290047646\n",
      "Epoch: 2/3... Loss: {:.4f} 0.7036292999982834\n",
      "Epoch: 2/3... Loss: {:.4f} 0.6835182055830955\n",
      "Epoch: 2/3... Loss: {:.4f} 0.650455217808485\n",
      "Epoch: 2/3... Loss: {:.4f} 0.6537599965929985\n",
      "Epoch: 2/3... Loss: {:.4f} 0.6326357163488865\n",
      "Epoch: 2/3... Loss: {:.4f} 0.5926981627941131\n",
      "Epoch: 2/3... Loss: {:.4f} 0.6273865111172199\n",
      "Epoch: 3/3... Loss: {:.4f} 0.064674773812294\n",
      "Epoch: 3/3... Loss: {:.4f} 0.5708474770188332\n",
      "Epoch: 3/3... Loss: {:.4f} 0.5643019124865531\n",
      "Epoch: 3/3... Loss: {:.4f} 0.5691359601914883\n",
      "Epoch: 3/3... Loss: {:.4f} 0.560970401763916\n",
      "Epoch: 3/3... Loss: {:.4f} 0.5415130034089088\n",
      "Epoch: 3/3... Loss: {:.4f} 0.5534661412239075\n",
      "Epoch: 3/3... Loss: {:.4f} 0.576743871718645\n",
      "Epoch: 3/3... Loss: {:.4f} 0.5392720952630043\n",
      "Epoch: 3/3... Loss: {:.4f} 0.5290668912231922\n",
      "Epoch: 3/3... Loss: {:.4f} 0.5288763910531997\n",
      "Epoch: 3/3... Loss: {:.4f} 0.4944449834525585\n",
      "Epoch: 3/3... Loss: {:.4f} 0.5413421094417572\n",
      "Epoch: 3/3... Loss: {:.4f} 0.5210025072097778\n",
      "Epoch: 3/3... Loss: {:.4f} 0.5291204310953617\n",
      "Epoch: 3/3... Loss: {:.4f} 0.47331311777234075\n",
      "Epoch: 3/3... Loss: {:.4f} 0.5102169156074524\n",
      "Epoch: 3/3... Loss: {:.4f} 0.4979296803474426\n",
      "Epoch: 3/3... Loss: {:.4f} 0.4795670218765736\n",
      "Epoch: 3/3... Loss: {:.4f} 0.45853670313954353\n",
      "Epoch: 3/3... Loss: {:.4f} 0.48314635157585145\n",
      "Epoch: 3/3... Loss: {:.4f} 0.4844289794564247\n",
      "Epoch: 3/3... Loss: {:.4f} 0.448966296762228\n",
      "Epoch: 3/3... Loss: {:.4f} 0.4605065375566483\n"
     ]
    }
   ],
   "source": [
    "epochs = 3\n",
    "print_every = 40\n",
    "steps = 0\n",
    "\n",
    "for e in range(epochs):\n",
    "    running_loss = 0\n",
    "    for images, labels in trainloader:\n",
    "        steps += 1\n",
    "        images.resize_(images.shape[0], 784)\n",
    "        optimizer.zero_grad()\n",
    "        output = model.forward(images)\n",
    "        loss = criterion(output, labels)\n",
    "        loss.backward()\n",
    "        optimizer.step()\n",
    "        \n",
    "        running_loss += loss.item()\n",
    "        \n",
    "        if steps % print_every == 0:\n",
    "            print(\"Epoch: {}/{}...\".format(e+1, epochs),\n",
    "                  \"Loss: {:.4f}\",format(running_loss/print_every))\n",
    "            running_loss = 0"
   ]
  },
  {
   "cell_type": "markdown",
   "metadata": {},
   "source": [
    "With the network trained, we can check out it's predictions."
   ]
  },
  {
   "cell_type": "code",
   "execution_count": 18,
   "metadata": {},
   "outputs": [
    {
     "data": {
      "image/png": "[encoded data removed]",
      "text/plain": [
       "<Figure size 432x648 with 2 Axes>"
      ]
     },
     "metadata": {},
     "output_type": "display_data"
    }
   ],
   "source": [
    "images, labels = next(iter(trainloader))\n",
    "\n",
    "img = images[0].view(1, 784)\n",
    "# Turn off gradients to speed up this part\n",
    "with torch.no_grad():\n",
    "    logits = model.forward(img)\n",
    "\n",
    "# Output of the network are logits, need to take softmax for probabilities\n",
    "ps = F.softmax(logits, dim=1)\n",
    "helper.view_classify(img.view(1, 28, 28), ps)"
   ]
  },
  {
   "cell_type": "markdown",
   "metadata": {},
   "source": [
    "Now our network is brilliant. It can accurately predict the digits in our images. Next up you'll write the code for training a neural network on a more complex dataset."
   ]
  }
 ],
 "metadata": {
  "kernelspec": {
   "display_name": "Python 3",
   "language": "python",
   "name": "python3"
  },
  "language_info": {
   "codemirror_mode": {
    "name": "ipython",
    "version": 3
   },
   "file_extension": ".py",
   "mimetype": "text/x-python",
   "name": "python",
   "nbconvert_exporter": "python",
   "pygments_lexer": "ipython3",
   "version": "3.6.5"
  }
 },
 "nbformat": 4,
 "nbformat_minor": 2
}
